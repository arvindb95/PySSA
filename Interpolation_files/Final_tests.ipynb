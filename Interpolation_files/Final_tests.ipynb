{
 "cells": [
  {
   "cell_type": "code",
   "execution_count": 1,
   "id": "627fc158-1e49-4b1f-a262-14a14ccda72e",
   "metadata": {},
   "outputs": [],
   "source": [
    "import numpy as np\n",
    "from scipy import integrate, special, interpolate\n",
    "import astropy.constants as const\n",
    "import astropy.units as u\n",
    "import matplotlib.pyplot as plt\n",
    "from astropy.table import Table\n",
    "import pickle\n",
    "import time\n"
   ]
  },
  {
   "cell_type": "code",
   "execution_count": 2,
   "id": "b3b53581-a955-406e-af43-52c1138a37cc",
   "metadata": {},
   "outputs": [],
   "source": [
    "# Load the interpolated data\n",
    "\n",
    "# for function F\n",
    "\n",
    "t1 =  time.time()\n",
    "\n",
    "F_file = open(\"F_values.pkl\", \"rb\")\n",
    "F_dict = pickle.load(F_file)\n",
    "F_x_values = F_dict['x']\n",
    "F_values = F_dict['F']\n",
    "\n",
    "interp_func_F = interpolate.interp1d(F_x_values, F_values, kind=\"cubic\", fill_value=F_values[-1], bounds_error=False)\n",
    "\n",
    "t2 = time.ti\n",
    "\n",
    "# for function F2\n",
    "\n",
    "F2_file = open(\"F2_values.pkl\", \"rb\")\n",
    "F2_dict = pickle.load(F2_file)\n",
    "F2_x_values = F2_dict['x']\n",
    "F2_p_values = F2_dict['p']\n",
    "F2_values = F2_dict['F2']\n",
    "\n",
    "F2_grid = np.array(F2_values).reshape(len(F2_p_values), len(F2_x_values))\n",
    "\n",
    "interp_func_F2 = interpolate.RegularGridInterpolator((np.unique(F2_x_values), np.unique(F2_p_values)), F2_grid.T)\n",
    "\n",
    "# for function F3\n",
    "\n",
    "F3_file = open(\"F3_values.pkl\", \"rb\")\n",
    "F3_dict = pickle.load(F3_file)\n",
    "F3_x_values = F3_dict['x']\n",
    "F3_p_values = F3_dict['p']\n",
    "F3_values = F3_dict['F3']\n",
    "\n",
    "F3_grid = np.array(F3_values).reshape(len(F3_p_values), len(F3_x_values))\n",
    "\n",
    "interp_func_F3 = interpolate.RegularGridInterpolator((np.unique(F3_x_values), np.unique(F3_p_values)), F3_grid.T)\n",
    "\n",
    "\n",
    "def calc_F(x, to_interp=False):\n",
    "    \"\"\"\n",
    "    Returns values of function F (defined in eq. A7 of Soderberg et al. 2005)\n",
    "    at x\n",
    "    \"\"\"\n",
    "    if not to_interp:\n",
    "        def fy1(y):\n",
    "            return special.kv(5.0 / 3.0, y)\n",
    "\n",
    "        if isinstance(x, float):\n",
    "            return x * integrate.quad(fy1, x, np.inf)[0]\n",
    "        else:\n",
    "            F_x = np.zeros(len(x))\n",
    "            for i, x_i in enumerate(x):\n",
    "                F_x[i] = x_i * integrate.quad(fy1, x_i, np.inf)[0]\n",
    "            return F_x\n",
    "    else:\n",
    "        return interp_func_F(x)\n",
    "    \n",
    "    \n",
    "\n",
    "def calc_F_2(x, calc_F, p, to_interp=False):\n",
    "    \"\"\"\n",
    "    Returns values of function F2 (defined in eq. A7 of Soderberg et al. 2005)\n",
    "    at x\n",
    "    \"\"\"\n",
    "    if not to_interp:\n",
    "        def fy2(y):\n",
    "            return calc_F(y) * (y ** ((p - 2.0) / 2.0))\n",
    "\n",
    "        if isinstance(x, float):\n",
    "            return np.sqrt(3) * integrate.quad(fy2, 0, x)[0]\n",
    "        else:\n",
    "            F_2_x = np.zeros(len(x))\n",
    "            for i, x_i in enumerate(x):\n",
    "                if x_i < 20000:\n",
    "                    F_2_x[i] = np.sqrt(3) * integrate.quad(fy2, 0, x_i)[0]\n",
    "                else:\n",
    "                    F_2_x[i:] = np.sqrt(3) * integrate.quad(fy2, 0, 20000)[0]\n",
    "            return F_2_x\n",
    "    else:\n",
    "        return interp_func_F2((x,p))\n",
    "\n",
    "def calc_F_3(x, calc_F, p, to_interp=False):\n",
    "    \"\"\"\n",
    "    Returns values of function F3 (defined in eq. A7 of Soderberg et al. 2005)\n",
    "    at x\n",
    "    \"\"\"\n",
    "    if not to_interp:\n",
    "        def fy3(y):\n",
    "            return calc_F(y) * (y ** ((p - 3.0) / 2.0))\n",
    "\n",
    "        if isinstance(x, float):\n",
    "            return np.sqrt(3) * integrate.quad(fy3, 0, x)[0]\n",
    "        else:\n",
    "            F_3_x = np.zeros(len(x))\n",
    "            for i, x_i in enumerate(x):\n",
    "                if x_i < 2000:\n",
    "                    F_3_x[i] = np.sqrt(3) * integrate.quad(fy3, 0, x_i)[0]\n",
    "                else:\n",
    "                    F_3_x[i:] = np.sqrt(3) * integrate.quad(fy3, 0, 2000)[0]\n",
    "            return F_3_x\n",
    "\n",
    "    else:\n",
    "        return interp_func_F3((x,p))\n",
    "\n"
   ]
  },
  {
   "cell_type": "code",
   "execution_count": 3,
   "id": "8824895f-c274-4852-9395-8b07397066fa",
   "metadata": {},
   "outputs": [
    {
     "name": "stderr",
     "output_type": "stream",
     "text": [
      "/tmp/ipykernel_25911/3848724790.py:47: IntegrationWarning: The integral is probably divergent, or slowly convergent.\n",
      "  return x * integrate.quad(fy1, x, np.inf)[0]\n"
     ]
    },
    {
     "name": "stdout",
     "output_type": "stream",
     "text": [
      "Time taken to run the full calculation =  4.010484457015991\n",
      "Time taken to run the interpolated calculation =  0.0003991127014160156\n",
      "actual_time/interp_time =  10048.50119474313\n",
      "[-5.74796353e-06 -2.42310050e-04 -2.62785554e-04 -3.11744589e-04\n",
      " -3.53323380e-04 -3.79064655e-04 -3.92824685e-04 -3.99588031e-04\n",
      " -4.02737583e-04 -4.04150230e-04 -4.04766626e-04 -4.05029989e-04\n",
      " -4.05140666e-04 -4.05186554e-04 -4.05205382e-04 -4.05213031e-04\n",
      " -4.05216115e-04 -4.05217350e-04 -4.05217842e-04 -4.05218037e-04\n",
      " -4.05218112e-04 -4.05218141e-04 -4.05218155e-04 -4.05218160e-04\n",
      " -4.05218162e-04 -4.05218160e-04 -4.05218160e-04 -4.05218163e-04\n",
      " -4.05218163e-04 -4.05218163e-04 -4.05218163e-04 -4.05218163e-04\n",
      " -4.05218163e-04 -4.05218163e-04 -4.05218163e-04 -4.05218163e-04\n",
      " -4.05218163e-04 -4.05218163e-04 -4.05218163e-04 -4.05218165e-04\n",
      " -4.05218163e-04 -4.05218163e-04 -4.05218163e-04 -4.05218163e-04\n",
      " -4.05218163e-04 -4.05218163e-04 -4.05218163e-04 -4.05218163e-04\n",
      " -4.05218163e-04 -4.05218163e-04 -4.05218163e-04 -4.05218160e-04\n",
      " -4.05218022e-04 -4.05218163e-04 -4.05218163e-04 -4.05218163e-04\n",
      " -4.05218163e-04 -4.05218163e-04 -4.05218163e-04 -4.05218163e-04\n",
      " -4.05218163e-04 -4.05218163e-04 -4.05218163e-04 -4.05218163e-04\n",
      " -4.05218163e-04 -4.05218163e-04 -4.05218163e-04 -4.05218163e-04\n",
      " -4.05218163e-04 -4.05218163e-04 -4.05218163e-04 -4.05218163e-04\n",
      " -4.05218163e-04 -4.05218163e-04 -4.05218163e-04 -4.05218163e-04\n",
      " -4.05218163e-04 -4.05218163e-04 -4.05218164e-04 -4.05218163e-04\n",
      " -4.05218163e-04 -4.05218163e-04 -4.05218163e-04 -4.05218163e-04\n",
      " -4.05218163e-04 -4.05218163e-04 -4.05218163e-04 -4.05218163e-04\n",
      " -4.05218163e-04 -4.05218163e-04 -4.05218163e-04 -4.05218163e-04\n",
      " -4.05218163e-04 -4.05218163e-04 -4.05218163e-04 -4.05218163e-04\n",
      " -4.05218163e-04 -4.05218163e-04 -4.05218163e-04 -4.05218163e-04]\n"
     ]
    },
    {
     "data": {
      "text/plain": [
       "<matplotlib.legend.Legend at 0x78558d6a5300>"
      ]
     },
     "execution_count": 3,
     "metadata": {},
     "output_type": "execute_result"
    },
    {
     "data": {
      "image/png": "[encoded data removed]",
      "text/plain": [
       "<Figure size 640x480 with 1 Axes>"
      ]
     },
     "metadata": {},
     "output_type": "display_data"
    }
   ],
   "source": [
    "x = np.arange(100)+1.0e-4\n",
    "p = 2.314\n",
    "\n",
    "plt.figure()\n",
    "plt.title(\"F2 values\")\n",
    "\n",
    "actual_start = time.time()\n",
    "\n",
    "F2_actual = calc_F_2(x, calc_F, p)\n",
    "\n",
    "actual_stop = time.time()\n",
    "\n",
    "\n",
    "F2_interp = calc_F_2(x, calc_F, p, to_interp=True)\n",
    "\n",
    "interp_stop = time.time()\n",
    "\n",
    "print(\"Time taken to run the full calculation = \", actual_stop - actual_start)\n",
    "print(\"Time taken to run the interpolated calculation = \", interp_stop -  actual_stop)\n",
    "\n",
    "\n",
    "print(\"actual_time/interp_time = \", (actual_stop - actual_start)/(interp_stop -  actual_stop))\n",
    "\n",
    "print(F2_actual -  F2_interp)\n",
    "\n",
    "plt.plot(x, F2_actual, label=\"Actual\")\n",
    "plt.plot(x, F2_interp, label=\"Interpolated\")\n",
    "plt.legend()"
   ]
  },
  {
   "cell_type": "code",
   "execution_count": 4,
   "id": "df16d690-21c5-46da-93c1-c4a309b19194",
   "metadata": {},
   "outputs": [
    {
     "name": "stderr",
     "output_type": "stream",
     "text": [
      "/tmp/ipykernel_25911/3848724790.py:47: IntegrationWarning: The integral is probably divergent, or slowly convergent.\n",
      "  return x * integrate.quad(fy1, x, np.inf)[0]\n"
     ]
    },
    {
     "name": "stdout",
     "output_type": "stream",
     "text": [
      "Time taken to run the full calculation =  4.849468469619751\n",
      "Time taken to run the interpolated calculation =  0.0004153251647949219\n",
      "actual_time/interp_time =  11676.31745120551\n",
      "[        nan -0.00091724 -0.0009331  -0.00096417 -0.00098655 -0.00099877\n",
      " -0.00100467 -0.00100734 -0.00100849 -0.00100898 -0.00100918 -0.00100926\n",
      " -0.0010093  -0.00100931 -0.00100931 -0.00100932 -0.00100932 -0.00100932\n",
      " -0.00100932 -0.00100932 -0.00100932 -0.00100932 -0.00100932 -0.00100932\n",
      " -0.00100932 -0.00100932 -0.00100932 -0.00100932 -0.00100932 -0.00100932\n",
      " -0.00100932 -0.00100932 -0.00100932 -0.00100932 -0.00100932 -0.00100932\n",
      " -0.00100932 -0.00100932 -0.00100932 -0.00100932 -0.00100932 -0.00100932\n",
      " -0.00100932 -0.00100932 -0.00100932 -0.00100932 -0.00100932 -0.00100932\n",
      " -0.00100932 -0.00100932 -0.00100932 -0.00100932 -0.00100932 -0.00100932\n",
      " -0.00100932 -0.00100932 -0.00100932 -0.00100932 -0.00100932 -0.00100932\n",
      " -0.00100932 -0.00100932 -0.00100932 -0.00100932 -0.00100932 -0.00100932\n",
      " -0.00100932 -0.00100932 -0.00100932 -0.00100932 -0.00100932 -0.00100932\n",
      " -0.00100932 -0.00100932 -0.00100932 -0.00100932 -0.00100932 -0.00100932\n",
      " -0.00100932 -0.00100932 -0.00100932 -0.00100932 -0.00100932 -0.00100932\n",
      " -0.00100932 -0.00100932 -0.00100932 -0.00100932 -0.00100932 -0.00100932\n",
      " -0.00100932 -0.00100932 -0.00100932 -0.00100932 -0.00100932 -0.00100932\n",
      " -0.00100932 -0.00100932 -0.00100932 -0.00100932]\n"
     ]
    },
    {
     "data": {
      "text/plain": [
       "<matplotlib.legend.Legend at 0x785570952140>"
      ]
     },
     "execution_count": 4,
     "metadata": {},
     "output_type": "execute_result"
    },
    {
     "data": {
      "image/png": "[encoded data removed]",
      "text/plain": [
       "<Figure size 640x480 with 1 Axes>"
      ]
     },
     "metadata": {},
     "output_type": "display_data"
    }
   ],
   "source": [
    "x = np.arange(100)+1.0e-4\n",
    "p = 2.314\n",
    "\n",
    "plt.figure()\n",
    "plt.title(\"F3 values\")\n",
    "\n",
    "actual_start = time.time()\n",
    "\n",
    "F3_actual = calc_F_3(x, calc_F, p)\n",
    "\n",
    "actual_stop = time.time()\n",
    "\n",
    "F3_interp = calc_F_3(x, calc_F, p, to_interp=True)\n",
    "\n",
    "\n",
    "interp_stop = time.time()\n",
    "\n",
    "print(\"Time taken to run the full calculation = \", actual_stop - actual_start)\n",
    "print(\"Time taken to run the interpolated calculation = \", interp_stop -  actual_stop)\n",
    "\n",
    "\n",
    "print(\"actual_time/interp_time = \", (actual_stop - actual_start)/(interp_stop -  actual_stop))\n",
    "\n",
    "print(F3_actual -  F3_interp)\n",
    "\n",
    "\n",
    "\n",
    "plt.plot(x, F3_actual, label=\"Actual\")\n",
    "plt.plot(x, F3_interp, label=\"Interpolated\")\n",
    "plt.legend()"
   ]
  },
  {
   "cell_type": "code",
   "execution_count": null,
   "id": "b0afa0fd-049e-4041-a2ed-2937290f37de",
   "metadata": {},
   "outputs": [],
   "source": []
  }
 ],
 "metadata": {
  "kernelspec": {
   "display_name": "Python 3 (ipykernel)",
   "language": "python",
   "name": "python3"
  },
  "language_info": {
   "codemirror_mode": {
    "name": "ipython",
    "version": 3
   },
   "file_extension": ".py",
   "mimetype": "text/x-python",
   "name": "python",
   "nbconvert_exporter": "python",
   "pygments_lexer": "ipython3",
   "version": "3.10.16"
  }
 },
 "nbformat": 4,
 "nbformat_minor": 5
}
