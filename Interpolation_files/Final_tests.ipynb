{
 "cells": [
  {
   "cell_type": "code",
   "execution_count": 1,
   "id": "627fc158-1e49-4b1f-a262-14a14ccda72e",
   "metadata": {},
   "outputs": [],
   "source": [
    "import numpy as np\n",
    "from scipy import integrate, special, interpolate\n",
    "import astropy.constants as const\n",
    "import astropy.units as u\n",
    "import matplotlib.pyplot as plt\n",
    "from astropy.table import Table\n",
    "import pickle\n"
   ]
  },
  {
   "cell_type": "code",
   "execution_count": 3,
   "id": "b3b53581-a955-406e-af43-52c1138a37cc",
   "metadata": {},
   "outputs": [
    {
     "name": "stderr",
     "output_type": "stream",
     "text": [
      "IOPub data rate exceeded.\n",
      "The Jupyter server will temporarily stop sending output\n",
      "to the client in order to avoid crashing it.\n",
      "To change this limit, set the config variable\n",
      "`--ServerApp.iopub_data_rate_limit`.\n",
      "\n",
      "Current values:\n",
      "ServerApp.iopub_data_rate_limit=1000000.0 (bytes/sec)\n",
      "ServerApp.rate_limit_window=3.0 (secs)\n",
      "\n",
      "/tmp/ipykernel_17834/3777711569.py:68: IntegrationWarning: The integral is probably divergent, or slowly convergent.\n",
      "  return x * integrate.quad(fy1, x, np.inf)[0]\n"
     ]
    }
   ],
   "source": [
    "%matplotlib widget\n",
    "to_interp = True\n",
    "\n",
    "# Load the interpolated data\n",
    "\n",
    "# for function F\n",
    "\n",
    "F_file = open(\"F_values.pkl\", \"rb\")\n",
    "F_dict = pickle.load(F_file)\n",
    "F_x_values = F_dict['x']\n",
    "F_values = F_dict['F']\n",
    "\n",
    "interp_func_F = interpolate.interp1d(F_x_values, F_values, kind=\"cubic\", fill_value=F_values[-1], bounds_error=False)\n",
    "\n",
    "# for function F2\n",
    "\n",
    "F2_file = open(\"F2_values.pkl\", \"rb\")\n",
    "F2_dict = pickle.load(F2_file)\n",
    "F2_x_values = F2_dict['x']\n",
    "F2_p_values = F2_dict['p']\n",
    "F2_values = F2_dict['F2']\n",
    "\n",
    "print(F2_dict)\n",
    "\n",
    "#F2_xg, F2_pg = np.meshgrid(np.unique(F2_x_values), np.unique(F2_p_values))\n",
    "\n",
    "#points = np.column_stack((F2_x_values, F2_p_values))\n",
    "\n",
    "#values = F2_values\n",
    "\n",
    "#target_coordinates = (F2_xg, F2_pg)\n",
    "\n",
    "#F2_grid = np.flip(F2_values.reshape(len(np.unique(F2_x_values)), len(np.unique(F2_p_values))))\n",
    "\n",
    "\n",
    "\n",
    "#interp_func_F2 = interpolate.RegularGridInterpolator((np.unique(F2_x_values), np.unique(F2_p_values)), F2_grid)\n",
    "\n",
    "\n",
    "#print(interp_func_F2((0.001, 2.0)))\n",
    "\n",
    "# for function F3\n",
    "'''\n",
    "F3_file = open(\"F3_values.pkl\", \"rb\")\n",
    "F3_dict = pickle.load(F3_file)\n",
    "F3_x_values = F3_dict['x']\n",
    "F3_p_values = F3_dict['p']\n",
    "F3_values = F3_dict['F3']\n",
    "\n",
    "#F3_xg, F3_pg = np.meshgrid(np.unique(F3_x_values), np.unique(F3_p_values), sparse=True, indexing=\"ij\")\n",
    "\n",
    "F3_grid = F3_values.reshape((len(np.unique(F3_x_values)), len(np.unique(F3_p_values))))\n",
    "\n",
    "interp_func_F3 = interpolate.RegularGridInterpolator((np.unique(F3_x_values), np.unique(F3_p_values)), F3_grid)\n",
    "\n",
    "\n",
    "'''\n",
    "def calc_F(x, to_interp=False):\n",
    "    \"\"\"\n",
    "    Returns values of function F (defined in eq. A7 of Soderberg et al. 2005)\n",
    "    at x\n",
    "    \"\"\"\n",
    "    if not to_interp:\n",
    "        def fy1(y):\n",
    "            return special.kv(5.0 / 3.0, y)\n",
    "\n",
    "        if isinstance(x, float):\n",
    "            return x * integrate.quad(fy1, x, np.inf)[0]\n",
    "        else:\n",
    "            F_x = np.zeros(len(x))\n",
    "            for i, x_i in enumerate(x):\n",
    "                F_x[i] = x_i * integrate.quad(fy1, x_i, np.inf)[0]\n",
    "            return F_x\n",
    "    else:\n",
    "        return interp_func_F(x)\n",
    "    \n",
    "    \n",
    "\n",
    "def calc_F_2(x, calc_F, p, to_interp=False):\n",
    "    \"\"\"\n",
    "    Returns values of function F2 (defined in eq. A7 of Soderberg et al. 2005)\n",
    "    at x\n",
    "    \"\"\"\n",
    "    if not to_interp:\n",
    "        def fy2(y):\n",
    "            return calc_F(y) * (y ** ((p - 2.0) / 2.0))\n",
    "\n",
    "        if isinstance(x, float):\n",
    "            return np.sqrt(3) * integrate.quad(fy2, 0, x)[0]\n",
    "        else:\n",
    "            F_2_x = np.zeros(len(x))\n",
    "            for i, x_i in enumerate(x):\n",
    "                if x_i < 20000:\n",
    "                    F_2_x[i] = np.sqrt(3) * integrate.quad(fy2, 0, x_i)[0]\n",
    "                else:\n",
    "                    F_2_x[i:] = np.sqrt(3) * integrate.quad(fy2, 0, 20000)[0]\n",
    "            return F_2_x\n",
    "    else:\n",
    "        return interp_func_F2((x,p))\n",
    "'''\n",
    "def calc_F_3(x, p, calc_F, to_interp=False):\n",
    "    \"\"\"\n",
    "    Returns values of function F3 (defined in eq. A7 of Soderberg et al. 2005)\n",
    "    at x\n",
    "    \"\"\"\n",
    "    if not to_interp:\n",
    "        def fy3(y):\n",
    "            return calc_F(y) * (y ** ((p - 3.0) / 2.0))\n",
    "\n",
    "        if isinstance(x, float):\n",
    "            return np.sqrt(3) * integrate.quad(fy3, 0, x)[0]\n",
    "        else:\n",
    "            F_3_x = np.zeros(len(x))\n",
    "            for i, x_i in enumerate(x):\n",
    "                if x_i < 2000:\n",
    "                    F_3_x[i] = np.sqrt(3) * integrate.quad(fy3, 0, x_i)[0]\n",
    "                else:\n",
    "                    F_3_x[i:] = np.sqrt(3) * integrate.quad(fy3, 0, 2000)[0]\n",
    "            return F_3_x\n",
    "\n",
    "    else:\n",
    "        return interp_func_F3((x,p))\n",
    "'''\n",
    "print(calc_F_2(0.001, calc_F, 2.0))\n"
   ]
  },
  {
   "cell_type": "code",
   "execution_count": 4,
   "id": "6e99201b-0a2d-4614-a298-6aa8dba392ac",
   "metadata": {},
   "outputs": [],
   "source": [
    "x = np.arange(1,20)\n",
    "F = calc_F(x)\n",
    "F_new = calc_F(x, to_interp=True)"
   ]
  },
  {
   "cell_type": "code",
   "execution_count": 5,
   "id": "d2af72b2-a646-4392-a057-cec2b3075eab",
   "metadata": {},
   "outputs": [],
   "source": [
    "p = 2.3"
   ]
  },
  {
   "cell_type": "code",
   "execution_count": 6,
   "id": "65af6bfd-0afb-4205-a3c3-538a10ca500a",
   "metadata": {},
   "outputs": [
    {
     "ename": "NameError",
     "evalue": "name 'interp_func_F2' is not defined",
     "output_type": "error",
     "traceback": [
      "\u001b[0;31m---------------------------------------------------------------------------\u001b[0m",
      "\u001b[0;31mNameError\u001b[0m                                 Traceback (most recent call last)",
      "Cell \u001b[0;32mIn[6], line 2\u001b[0m\n\u001b[1;32m      1\u001b[0m F2 \u001b[38;5;241m=\u001b[39m calc_F_2(x, calc_F, p)\n\u001b[0;32m----> 2\u001b[0m F2_new \u001b[38;5;241m=\u001b[39m \u001b[43mcalc_F_2\u001b[49m\u001b[43m(\u001b[49m\u001b[43mx\u001b[49m\u001b[43m,\u001b[49m\u001b[43m \u001b[49m\u001b[43mcalc_F\u001b[49m\u001b[43m,\u001b[49m\u001b[43m \u001b[49m\u001b[43mp\u001b[49m\u001b[43m,\u001b[49m\u001b[43m \u001b[49m\u001b[43mto_interp\u001b[49m\u001b[38;5;241;43m=\u001b[39;49m\u001b[38;5;28;43;01mTrue\u001b[39;49;00m\u001b[43m)\u001b[49m\n\u001b[1;32m      4\u001b[0m plt\u001b[38;5;241m.\u001b[39mplot(x,F2, label\u001b[38;5;241m=\u001b[39m\u001b[38;5;124m\"\u001b[39m\u001b[38;5;124mActual\u001b[39m\u001b[38;5;124m\"\u001b[39m)\n\u001b[1;32m      5\u001b[0m plt\u001b[38;5;241m.\u001b[39mplot(x,F2_new, label\u001b[38;5;241m=\u001b[39m\u001b[38;5;124m\"\u001b[39m\u001b[38;5;124mInterpolated\u001b[39m\u001b[38;5;124m\"\u001b[39m)\n",
      "Cell \u001b[0;32mIn[3], line 99\u001b[0m, in \u001b[0;36mcalc_F_2\u001b[0;34m(x, calc_F, p, to_interp)\u001b[0m\n\u001b[1;32m     97\u001b[0m         \u001b[38;5;28;01mreturn\u001b[39;00m F_2_x\n\u001b[1;32m     98\u001b[0m \u001b[38;5;28;01melse\u001b[39;00m:\n\u001b[0;32m---> 99\u001b[0m     \u001b[38;5;28;01mreturn\u001b[39;00m \u001b[43minterp_func_F2\u001b[49m((x,p))\n",
      "\u001b[0;31mNameError\u001b[0m: name 'interp_func_F2' is not defined"
     ]
    }
   ],
   "source": [
    "F2 = calc_F_2(x, calc_F, p)\n",
    "F2_new = calc_F_2(x, calc_F, p, to_interp=True)\n",
    "\n",
    "plt.plot(x,F2, label=\"Actual\")\n",
    "plt.plot(x,F2_new, label=\"Interpolated\")\n",
    "plt.legend()"
   ]
  },
  {
   "cell_type": "code",
   "execution_count": 7,
   "id": "e69449a0-75b0-4d38-a5c0-419e456557cd",
   "metadata": {},
   "outputs": [
    {
     "name": "stdout",
     "output_type": "stream",
     "text": [
      "[0 1 2 3 4 5 6 7 8 9 0 1 2 3 4 5 6 7 8 9 0 1 2 3 4 5 6 7 8 9]\n",
      "[2.5 2.5 2.5 2.5 2.5 2.5 2.5 2.5 2.5 2.5 2.4 2.4 2.4 2.4 2.4 2.4 2.4 2.4\n",
      " 2.4 2.4 2.3 2.3 2.3 2.3 2.3 2.3 2.3 2.3 2.3 2.3]\n"
     ]
    }
   ],
   "source": [
    "x = np.hstack((np.arange(10),np.arange(10),np.arange(10)))\n",
    "p = np.hstack((np.repeat(2.5, 10), np.repeat(2.4, 10), np.repeat(2.3, 10)))\n",
    "\n",
    "print(x)\n",
    "print(p)"
   ]
  },
  {
   "cell_type": "code",
   "execution_count": 8,
   "id": "1b6dcfba-a571-4015-8366-b7d99aa83252",
   "metadata": {},
   "outputs": [],
   "source": [
    "def func(x,p):\n",
    "    return (np.sin(x)*(p**2) + p**2+ x**2)"
   ]
  },
  {
   "cell_type": "code",
   "execution_count": 9,
   "id": "70317e21-d203-4e1d-be6b-bb9b578ac433",
   "metadata": {},
   "outputs": [
    {
     "data": {
      "text/plain": [
       "<matplotlib.collections.QuadMesh at 0x75746b693070>"
      ]
     },
     "execution_count": 9,
     "metadata": {},
     "output_type": "execute_result"
    },
    {
     "data": {
      "application/vnd.jupyter.widget-view+json": {
       "model_id": "40f28e2d547d4761a3cac8e6cd3faf76",
       "version_major": 2,
       "version_minor": 0
      },
      "image/png": "[encoded data removed]",
      "text/html": [
       "\n",
       "            <div style=\"display: inline-block;\">\n",
       "                <div class=\"jupyter-widgets widget-label\" style=\"text-align: center;\">\n",
       "                    Figure\n",
       "                </div>\n",
       "                <img src='data:image/png;base64,iVBORw0KGgoAAAANSUhEUgAAAoAAAAHgCAYAAAA10dzkAAAAOnRFWHRTb2Z0d2FyZQBNYXRwbG90bGliIHZlcnNpb24zLjEwLjEsIGh0dHBzOi8vbWF0cGxvdGxpYi5vcmcvc2/+5QAAAAlwSFlzAAAPYQAAD2EBqD+naQAAJqhJREFUeJzt3X+U1nWd///HMOgw0TCCNvzORijdUpcU1jWK5bMS0LYl335sdizCtdpscGOtPEJqi1pT1u4x1w3LLTCNbM8posMpXCIB2cBaWtcf7ZJiKvR1qChmgHRC5vr+0bfZzwgoCnLN5et2O+d9jtf7er0vnu9zOcx93tc1F3WVSqUSAACKMaDaAwAAcHQJQACAwghAAIDCCEAAgMIIQACAwghAAIDCCEAAgMIIQACAwghAAIDCCEAAgMIIQACAwghAAIDCCEAAgMIIQACAwghAAIDCCEAAgMIIQACAwghAAIDCCEAAgMIIQACAwghAAIDCCEAAgMIIQACAwghAAIDCCEAAgMIIQACAwghAAIDCCEAAgMIIQACAwghAAIDCCEAAgMIIQACAwghAAIDCCEAAgMIIQACAwghAAIDCCEAAgMIIQACAwghAAIDCCEAAgMIIQACAwghAAIDCCEAAgMIIQACAwghAAIDCCEAAgMIIQACAwghAAIDCCEAAgMIIQACAwghAAIDCCEAAgMLURAC2t7dn0qRJaWpqSktLS2bNmpXNmzc/7TFLlixJXV1dn23QoEF91syZM2e/NTNnznw+TwUAoOoGVnuAQ7F27dq0tbVl0qRJefLJJ7NgwYJMnz49P/nJTzJ48OCDHjdkyJA+oVhXV7ffmpkzZ2bx4sW9txsaGo7s8AAA/UxNBODKlSv73F6yZElaWlqyadOmTJky5aDH1dXVZcSIEU/72A0NDc+4BgDghaQmXgJ+qs7OziTJsGHDnnbd7t27c+KJJ2bs2LE599xzc//99++3Zs2aNWlpacnJJ5+ciy66KDt27HheZgYA6C/qKpVKpdpDPBs9PT1585vfnJ07d2b9+vUHXbdhw4Y88MADOf3009PZ2ZnPfvazWbduXe6///6MGTMmSXLbbbflRS96UVpbW7Nly5YsWLAgL37xi7Nhw4bU19fv95jd3d3p7u7uM8uvf/3rHH/88Qd8eRkA6H8qlUp27dqVUaNGZcCAmrwWdvgqNeYDH/hA5cQTT6xs3br1WR33u9/9rjJu3LjK5ZdfftA1W7ZsqSSpfO973zvg/R//+McrSWw2m81ms70AtmfbEi8kNXUFcO7cuVm+fHnWrVuX1tbWZ33829/+9gwcODBf+9rXDrrmJS95Sa655pr8zd/8zX73PfUKYGdnZ1760pfmdQPelIF1xzzrefqT+lHDqz3CYas0HfwXgji6KsfWxNuLn9HjI19U7RGOiF+dWvvPx8AzOqs9whFx4cv/vdojHLYLh/y/1R7hsHXt7smJZzycnTt3prm5udrjVEVN/K1QqVRy8cUXZ9myZVmzZs1zir99+/bl3nvvzV/8xV8cdM22bduyY8eOjBw58oD3NzQ0HPC3hAfWHVP7ATig9n/7uVJf++fwQlGpr4m/Wp7RwGMGPfOiGlDfUPvPR/2Lnqj2CEdE44tr/7kY0rT/W6RqVclv36qJF77b2tpy6623ZunSpWlqakpHR0c6Ojry+OOP966ZPXt25s+f33v7qquuyr/927/loYceyo9//OO8613vyiOPPJL3vve9SX7/CyIf/ehHs3Hjxjz88MNZvXp1zj333IwfPz4zZsw46ucIAHC01MSPIosWLUqSTJ06tc/+xYsXZ86cOUmSRx99tM8bOX/zm9/kfe97Xzo6OjJ06NCceeaZ+cEPfpBXvvKVSZL6+vrcc889ufnmm7Nz586MGjUq06dPz9VXX+2zAAGAF7Saeg9gf9PV1ZXm5ub8n/q31P5LwKMP/LJ3LakM8R7A/uIF8x7A0S+M/6d+eXrtPx8DJ+2s9ghHxEUnr6v2CIftA80/r/YIh61r174MfcVD6ezszJAhQ6o9TlXUxEvAAAAcOQIQAKAwAhAAoDACEACgMAIQAKAwAhAAoDACEACgMAIQAKAwAhAAoDACEACgMAIQAKAwAhAAoDACEACgMAIQAKAwAhAAoDACEACgMAIQAKAwAhAAoDACEACgMAIQAKAwAhAAoDACEACgMAIQAKAwAhAAoDACEACgMAIQAKAwAhAAoDACEACgMAIQAKAwAhAAoDACEACgMAIQAKAwAhAAoDACEACgMAIQAKAwAhAAoDACEACgMAIQAKAwAhAAoDACEACgMAIQAKAwAhAAoDACEACgMAIQAKAwAhAAoDACEACgMAIQAKAwAhAAoDACEACgMAIQAKAwAhAAoDA1EYDt7e2ZNGlSmpqa0tLSklmzZmXz5s1Pe8ySJUtSV1fXZxs0aFCfNZVKJVdeeWVGjhyZxsbGTJs2LQ888MDzeSoAAFVXEwG4du3atLW1ZePGjVm1alX27t2b6dOnZ8+ePU973JAhQ/LYY4/1bo888kif+6+99tpcf/31ufHGG3PXXXdl8ODBmTFjRp544onn83QAAKpqYLUHOBQrV67sc3vJkiVpaWnJpk2bMmXKlIMeV1dXlxEjRhzwvkqlkuuuuy6XX355zj333CTJV77ylQwfPjzf+ta3ct555x25EwAA6Edq4grgU3V2diZJhg0b9rTrdu/enRNPPDFjx47Nueeem/vvv7/3vp/97Gfp6OjItGnTevc1NzfnrLPOyoYNGw74eN3d3enq6uqzAQDUmpoLwJ6ensybNy+TJ0/OqaeeetB1J598cr785S9n+fLlufXWW9PT05PXvOY12bZtW5Kko6MjSTJ8+PA+xw0fPrz3vqdqb29Pc3Nz7zZ27NgjdFYAAEdPzQVgW1tb7rvvvtx2221Pu+7ss8/O7NmzM2HChPzZn/1ZvvnNb+YlL3lJvvCFLzznP3v+/Pnp7Ozs3bZu3fqcHwsAoFpq4j2AfzB37tysWLEi69aty5gxY57Vscccc0xe/epX58EHH0yS3vcGbt++PSNHjuxdt3379kyYMOGAj9HQ0JCGhobnNjwAQD9RE1cAK5VK5s6dm2XLluX73/9+Wltbn/Vj7Nu3L/fee29v7LW2tmbEiBFZvXp175qurq7cddddOfvss4/Y7AAA/U1NXAFsa2vL0qVLs3z58jQ1NfW+R6+5uTmNjY1JktmzZ2f06NFpb29Pklx11VX50z/904wfPz47d+7MZz7zmTzyyCN573vfm+T3vyE8b968XHPNNXn5y1+e1tbWXHHFFRk1alRmzZpVlfMEADgaaiIAFy1alCSZOnVqn/2LFy/OnDlzkiSPPvpoBgz43wuav/nNb/K+970vHR0dGTp0aM4888z84Ac/yCtf+creNZdeemn27NmT97///dm5c2de+9rXZuXKlft9YDQAwAtJXaVSqVR7iFrV1dWV5ubm/J/6t2Rg3THVHuew1I8e+cyL+rnKkMHVHoH/X+XYmvjZ8hk9PvqF8f/UL0+v/edj4KSd1R7hiLjo5HXVHuGwfaD559Ue4bB17dqXoa94KJ2dnRkyZEi1x6mKmngPIAAAR44ABAAojAAEACiMAAQAKIwABAAojAAEACiMAAQAKIwABAAojAAEACiMAAQAKIwABAAojAAEACiMAAQAKIwABAAojAAEACiMAAQAKIwABAAojAAEACiMAAQAKIwABAAojAAEACiMAAQAKIwABAAojAAEACiMAAQAKIwABAAojAAEACiMAAQAKIwABAAojAAEACiMAAQAKIwABAAojAAEACiMAAQAKIwABAAojAAEACiMAAQAKIwABAAojAAEACiMAAQAKIwABAAojAAEACiMAAQAKIwABAAojAAEACiMAAQAKIwABAAojAAEACiMAAQAKIwABAAoTE0EYHt7eyZNmpSmpqa0tLRk1qxZ2bx58yEff9ttt6Wuri6zZs3qs3/OnDmpq6vrs82cOfMITw8A0L/URACuXbs2bW1t2bhxY1atWpW9e/dm+vTp2bNnzzMe+/DDD+cjH/lIXve61x3w/pkzZ+axxx7r3b72ta8d6fEBAPqVgdUe4FCsXLmyz+0lS5akpaUlmzZtypQpUw563L59+3L++edn4cKFufPOO7Nz58791jQ0NGTEiBFHemQAgH6rJq4APlVnZ2eSZNiwYU+77qqrrkpLS0suvPDCg65Zs2ZNWlpacvLJJ+eiiy7Kjh07juisAAD9TU1cAfy/9fT0ZN68eZk8eXJOPfXUg65bv359vvSlL+Xuu+8+6JqZM2fmLW95S1pbW7Nly5YsWLAgb3jDG7Jhw4bU19fvt767uzvd3d29t7u6ug7rXAAAqqHmArCtrS333Xdf1q9ff9A1u3btyrvf/e7cdNNNOeGEEw667rzzzuv979NOOy2nn356xo0blzVr1uScc87Zb317e3sWLly43/5KTyWVusqzPJN+Zl9PtSc4bHVP1v45JEmlvq7aIxy+So1/PbzA1PpfT0myr+cF8HWRpLvnmGqPcNj2Vp6s9giHbW/lhfH94nDU1EvAc+fOzYoVK3LHHXdkzJgxB123ZcuWPPzww3nTm96UgQMHZuDAgfnKV76Sb3/72xk4cGC2bNlywONOOumknHDCCXnwwQcPeP/8+fPT2dnZu23duvWInBcAwNFUE1cAK5VKLr744ixbtixr1qxJa2vr064/5ZRTcu+99/bZd/nll2fXrl353Oc+l7Fjxx7wuG3btmXHjh0ZOXLkAe9vaGhIQ0PDczsJAIB+oiYCsK2tLUuXLs3y5cvT1NSUjo6OJElzc3MaGxuTJLNnz87o0aPT3t6eQYMG7ff+wOOOOy5Jevfv3r07CxcuzFvf+taMGDEiW7ZsyaWXXprx48dnxowZR+/kAACOspoIwEWLFiVJpk6d2mf/4sWLM2fOnCTJo48+mgEDDv0V7fr6+txzzz25+eabs3PnzowaNSrTp0/P1Vdf7SofAPCCVhMBWDmEN5SvWbPmae9fsmRJn9uNjY25/fbbD2MqAIDaVFO/BAIAwOETgAAAhRGAAACFEYAAAIURgAAAhRGAAACFEYAAAIURgAAAhRGAAACFEYAAAIURgAAAhRGAAACFEYAAAIURgAAAhRGAAACFEYAAAIURgAAAhRGAAACFEYAAAIURgAAAhRGAAACFEYAAAIURgAAAhRGAAACFEYAAAIURgAAAhRGAAACFEYAAAIURgAAAhRGAAACFEYAAAIURgAAAhRGAAACFEYAAAIURgAAAhRGAAACFEYAAAIURgAAAhRGAAACFEYAAAIURgAAAhRGAAACFEYAAAIURgAAAhRGAAACFEYAAAIURgAAAhRGAAACFEYAAAIURgAAAhRGAAACFqYkAbG9vz6RJk9LU1JSWlpbMmjUrmzdvPuTjb7vtttTV1WXWrFl99lcqlVx55ZUZOXJkGhsbM23atDzwwANHeHoAgP6lJgJw7dq1aWtry8aNG7Nq1ars3bs306dPz549e57x2Icffjgf+chH8rrXvW6/+6699tpcf/31ufHGG3PXXXdl8ODBmTFjRp544onn4zQAAPqFgdUe4FCsXLmyz+0lS5akpaUlmzZtypQpUw563L59+3L++edn4cKFufPOO7Nz587e+yqVSq677rpcfvnlOffcc5MkX/nKVzJ8+PB861vfynnnnfe8nAsAQLXVxBXAp+rs7EySDBs27GnXXXXVVWlpacmFF164330/+9nP0tHRkWnTpvXua25uzllnnZUNGzYc8PG6u7vT1dXVZwMAqDU1F4A9PT2ZN29eJk+enFNPPfWg69avX58vfelLuemmmw54f0dHR5Jk+PDhffYPHz68976nam9vT3Nzc+82duzY53gWAADVU3MB2NbWlvvuuy+33XbbQdfs2rUr7373u3PTTTflhBNOOGJ/9vz589PZ2dm7bd269Yg9NgDA0VIT7wH8g7lz52bFihVZt25dxowZc9B1W7ZsycMPP5w3velNvft6enqSJAMHDszmzZszYsSIJMn27dszcuTI3nXbt2/PhAkTDvi4DQ0NaWhoOAJnAgBQPTURgJVKJRdffHGWLVuWNWvWpLW19WnXn3LKKbn33nv77Lv88suza9eufO5zn8vYsWNzzDHHZMSIEVm9enVv8HV1deWuu+7KRRdd9HydCgBA1dVEALa1tWXp0qVZvnx5mpqaet+j19zcnMbGxiTJ7NmzM3r06LS3t2fQoEH7vT/wuOOOS5I+++fNm5drrrkmL3/5y9Pa2porrrgio0aN2u/zAgEAXkhqIgAXLVqUJJk6dWqf/YsXL86cOXOSJI8++mgGDHh2b2m89NJLs2fPnrz//e/Pzp0789rXvjYrV67MoEGDjsTYAAD9Ul2lUqlUe4ha1dXVlebm5kyt+38ysO6Yao9zWAaOGlHtEQ5f0+BqT3BEVOrrqj3CYascWxM/Wz6jx8e8uNojHBG/Ou0F8HxM7Kz2BEfE+07+QbVHOGwfPO7Bao9w2Lp29aTl5EfS2dmZIUOGVHucqqi53wIGAODwCEAAgMIIQACAwghAAIDCCEAAgMIIQACAwghAAIDCCEAAgMIIQACAwghAAIDCCEAAgMIIQACAwghAAIDCCEAAgMIIQACAwghAAIDCCEAAgMIIQACAwghAAIDCCEAAgMIIQACAwghAAIDCCEAAgMIIQACAwghAAIDCCEAAgMIIQACAwghAAIDCCEAAgMIIQACAwghAAIDCCEAAgMIIQACAwghAAIDCCEAAgMIIQACAwghAAIDCCEAAgMIIQACAwghAAIDCCEAAgMIIQACAwghAAIDCCEAAgMIIQACAwghAAIDCCEAAgMIIQACAwghAAIDCCEAAgMLURAC2t7dn0qRJaWpqSktLS2bNmpXNmzc/7THf/OY3M3HixBx33HEZPHhwJkyYkFtuuaXPmjlz5qSurq7PNnPmzOfzVAAAqm5gtQc4FGvXrk1bW1smTZqUJ598MgsWLMj06dPzk5/8JIMHDz7gMcOGDcvHPvaxnHLKKTn22GOzYsWKXHDBBWlpacmMGTN6182cOTOLFy/uvd3Q0PC8nw8AQDXVRACuXLmyz+0lS5akpaUlmzZtypQpUw54zNSpU/vc/tCHPpSbb74569ev7xOADQ0NGTFixBGfGQCgv6qJl4CfqrOzM8nvr/IdikqlktWrV2fz5s37BeOaNWvS0tKSk08+ORdddFF27NhxxOcFAOhPauIK4P+tp6cn8+bNy+TJk3Pqqac+7drOzs6MHj063d3dqa+vz+c///m8/vWv771/5syZectb3pLW1tZs2bIlCxYsyBve8IZs2LAh9fX1+z1ed3d3uru7e293dXUduRMDADhKai4A29ract9992X9+vXPuLapqSl33313du/endWrV+eSSy7JSSed1Pvy8Hnnnde79rTTTsvpp5+ecePGZc2aNTnnnHP2e7z29vYsXLhw/z+o0pOk57meUv/w5JPVnuDwPbmv2hMcEXXZ/4ePWlOp9gD09QJ4Qvb11OQLVvt5olJz33b382Rq/+/aJ2v9e/YRUFNfUXPnzs2KFStyxx13ZMyYMc+4fsCAARk/fnwmTJiQD3/4w3nb296W9vb2g64/6aSTcsIJJ+TBBx884P3z589PZ2dn77Z169bnfC4AANVSEz+KVCqVXHzxxVm2bFnWrFmT1tbW5/Q4PT09fV7Cfapt27Zlx44dGTly5AHvb2ho8FvCAEDNq4kAbGtry9KlS7N8+fI0NTWlo6MjSdLc3JzGxsYkyezZszN69OjeK3zt7e2ZOHFixo0bl+7u7nznO9/JLbfckkWLFiVJdu/enYULF+atb31rRowYkS1btuTSSy/N+PHj+/yWMADAC01NBOAfou2pH+2yePHizJkzJ0ny6KOPZsCA/31Fe8+ePfngBz+Ybdu2pbGxMaecckpuvfXWvOMd70iS1NfX55577snNN9+cnTt3ZtSoUZk+fXquvvpqV/kAgBe0ukql8gJ4e3B1dHV1pbm5OVNzbgbWHVPtcQ7LwOEt1R7h8DW9uNoTHBkDa/+XQHoaa/vr4Q8eH/PC+H/qV6fWxM/6T2vfmbuqPcIRMeeUjdUe4bD97dD7qz3CYeva1ZNRJ29LZ2dnhgwZUu1xqqKmfgkEAIDDJwABAAojAAEACiMAAQAKIwABAAojAAEACiMAAQAKIwABAAojAAEACiMAAQAKIwABAAojAAEACiMAAQAKIwABAAojAAEACiMAAQAKIwABAAojAAEACiMAAQAKIwABAAojAAEACiMAAQAKIwABAAojAAEACiMAAQAKIwABAAojAAEACiMAAQAKIwABAAojAAEACiMAAQAKIwABAAojAAEACiMAAQAKIwABAAojAAEACiMAAQAKIwABAAojAAEACiMAAQAKIwABAAojAAEACiMAAQAKIwABAAojAAEACiMAAQAKIwABAAojAAEACiMAAQAKIwABAAojAAEAClMTAdje3p5JkyalqakpLS0tmTVrVjZv3vy0x3zzm9/MxIkTc9xxx2Xw4MGZMGFCbrnllj5rKpVKrrzyyowcOTKNjY2ZNm1aHnjggefzVAAAqq4mAnDt2rVpa2vLxo0bs2rVquzduzfTp0/Pnj17DnrMsGHD8rGPfSwbNmzIPffckwsuuCAXXHBBbr/99t411157ba6//vrceOONueuuuzJ48ODMmDEjTzzxxNE4LQCAqqirVCqVag/xbP3yl79MS0tL1q5dmylTphzycWeccUbe+MY35uqrr06lUsmoUaPy4Q9/OB/5yEeSJJ2dnRk+fHiWLFmS88477xkfr6urK83NzZmaczOw7pjnfD79wcDhLdUe4fA1vbjaExwZA+urPcFh62ms7a+HP3h8zAvj/6lfnTqw2iMctn1n7qr2CEfEnFM2VnuEw/a3Q++v9giHrWtXT0advC2dnZ0ZMmRItcepipq4AvhUnZ2dSX5/le9QVCqVrF69Ops3b+4Nxp/97Gfp6OjItGnTetc1NzfnrLPOyoYNG4780AAA/UTN/VjY09OTefPmZfLkyTn11FOfdm1nZ2dGjx6d7u7u1NfX5/Of/3xe//rXJ0k6OjqSJMOHD+9zzPDhw3vve6ru7u50d3f33u7q6jqcUwEAqIqaC8C2trbcd999Wb9+/TOubWpqyt13353du3dn9erVueSSS3LSSSdl6tSpz+nPbm9vz8KFC5/TsQAA/UVNvQQ8d+7crFixInfccUfGjBnzjOsHDBiQ8ePHZ8KECfnwhz+ct73tbWlvb0+SjBgxIkmyffv2Psds3769976nmj9/fjo7O3u3rVu3HuYZAQAcfTURgJVKJXPnzs2yZcvy/e9/P62trc/pcXp6enpfwm1tbc2IESOyevXq3vu7urpy11135eyzzz7g8Q0NDRkyZEifDQCg1tTES8BtbW1ZunRpli9fnqampt736DU3N6exsTFJMnv27IwePbr3Cl97e3smTpyYcePGpbu7O9/5zndyyy23ZNGiRUmSurq6zJs3L9dcc01e/vKXp7W1NVdccUVGjRqVWbNmVeU8AQCOhpoIwD9E21Pfu7d48eLMmTMnSfLoo49mwID/vaC5Z8+efPCDH8y2bdvS2NiYU045Jbfeemve8Y539K659NJLs2fPnrz//e/Pzp0789rXvjYrV67MoEGDnvdzAgColpr8HMD+wucA9jM+B7Df8DmA/YvPAew/fA5g/+BzAGvkPYAAABw5AhAAoDACEACgMAIQAKAwAhAAoDACEACgMAIQAKAwAhAAoDACEACgMAIQAKAwAhAAoDACEACgMAIQAKAwAhAAoDACEACgMAIQAKAwAhAAoDACEACgMAIQAKAwAhAAoDACEACgMAIQAKAwAhAAoDACEACgMAIQAKAwAhAAoDACEACgMAIQAKAwAhAAoDACEACgMAIQAKAwAhAAoDACEACgMAIQAKAwAhAAoDACEACgMAIQAKAwAhAAoDACEACgMAIQAKAwAhAAoDACEACgMAIQAKAwAhAAoDACEACgMAIQAKAwAhAAoDACEACgMAIQAKAwAhAAoDACEACgMDURgO3t7Zk0aVKamprS0tKSWbNmZfPmzU97zE033ZTXve51GTp0aIYOHZpp06blhz/8YZ81c+bMSV1dXZ9t5syZz+epAABUXU0E4Nq1a9PW1paNGzdm1apV2bt3b6ZPn549e/Yc9Jg1a9bkne98Z+64445s2LAhY8eOzfTp0/Pzn/+8z7qZM2fmscce692+9rWvPd+nAwBQVQOrPcChWLlyZZ/bS5YsSUtLSzZt2pQpU6Yc8JivfvWrfW7/y7/8S77xjW9k9erVmT17du/+hoaGjBgx4sgPDQDQT9VEAD5VZ2dnkmTYsGGHfMxvf/vb7N27d79j1qxZk5aWlgwdOjR//ud/nmuuuSbHH3/8AR+ju7s73d3d+83xZPYmlWd7Fv1Mz++qPcHh29f9zGtqQV19tSc4bD37eqo9whHx5N6a/CtyP/u6a/889v32iWqPcEQ8sXtvtUc4bF0Da//re9fu359DpVLr37yfu7pKjZ19T09P3vzmN2fnzp1Zv379IR/3wQ9+MLfffnvuv//+DBo0KEly22235UUvelFaW1uzZcuWLFiwIC9+8YuzYcOG1Nfv/0347//+77Nw4cIjdi4AQPVs3bo1Y8aMqfYYVVFzAXjRRRflu9/9btavX3/IT9qnPvWpXHvttVmzZk1OP/30g6576KGHMm7cuHzve9/LOeecs9/9T70C2NPTk1//+tc5/vjjU1dX9+xP5hB0dXVl7Nix2bp1a4YMGfK8/BkcGs9F/+G56D88F/2L5+PQVCqV7Nq1K6NGjcqAATXx6xBHXE29LjB37tysWLEi69atO+T4++xnP5tPfepT+d73vve08ZckJ510Uk444YQ8+OCDBwzAhoaGNDQ09Nl33HHHHfL8h2PIkCG+mPsJz0X/4bnoPzwX/Yvn45k1NzdXe4SqqokArFQqufjii7Ns2bKsWbMmra2th3Tctddem0984hO5/fbbM3HixGdcv23btuzYsSMjR4483JEBAPqtmrju2dbWlltvvTVLly5NU1NTOjo60tHRkccff7x3zezZszN//vze25/+9KdzxRVX5Mtf/nJe9rKX9R6ze/fuJMnu3bvz0Y9+NBs3bszDDz+c1atX59xzz8348eMzY8aMo36OAABHS00E4KJFi9LZ2ZmpU6dm5MiRvdvXv/713jWPPvpoHnvssT7H/O53v8vb3va2Psd89rOfTZLU19fnnnvuyZvf/Oa84hWvyIUXXpgzzzwzd955534v81ZTQ0NDPv7xj/ermUrlueg/PBf9h+eif/F8cKhq7pdAAAA4PDVxBRAAgCNHAAIAFEYAAgAURgACABRGAPZj//zP/5yXvexlGTRoUM4666z88Ic/rPZIRWpvb8+kSZPS1NSUlpaWzJo1K5s3b672WOT3/8pPXV1d5s2bV+1RivTzn/8873rXu3L88censbExp512Wv7jP/6j2mMVZ9++fbniiivS2tqaxsbGjBs3LldffXXR/84tz0wA9lNf//rXc8kll+TjH/94fvzjH+eP//iPM2PGjPziF7+o9mjFWbt2bdra2rJx48asWrUqe/fuzfTp07Nnz55qj1a0H/3oR/nCF77wjP/CD8+P3/zmN5k8eXKOOeaYfPe7381PfvKT/MM//EOGDh1a7dGK8+lPfzqLFi3KDTfckP/+7//Opz/96Vx77bX5p3/6p2qPRj/mY2D6qbPOOiuTJk3KDTfckOT3/+7w2LFjc/HFF+eyyy6r8nRl++Uvf5mWlpasXbs2U6ZMqfY4Rdq9e3fOOOOMfP7zn88111yTCRMm5Lrrrqv2WEW57LLL8u///u+58847qz1K8f7yL/8yw4cPz5e+9KXefW9961vT2NiYW2+9tYqT0Z+5AtgP/e53v8umTZsybdq03n0DBgzItGnTsmHDhipORpJ0dnYmSYYNG1blScrV1taWN77xjX2+Rji6vv3tb2fixIl5+9vfnpaWlrz61a/OTTfdVO2xivSa17wmq1evzk9/+tMkyX/9139l/fr1ecMb3lDlyejPauLfAi7Nr371q+zbty/Dhw/vs3/48OH5n//5nypNRfL7K7Hz5s3L5MmTc+qpp1Z7nCLddttt+fGPf5wf/ehH1R6laA899FAWLVqUSy65JAsWLMiPfvSj/O3f/m2OPfbYvOc976n2eEW57LLL0tXVlVNOOSX19fXZt29fPvGJT+T888+v9mj0YwIQnoW2trbcd999Wb9+fbVHKdLWrVvzoQ99KKtWrcqgQYOqPU7Renp6MnHixHzyk59Mkrz61a/OfffdlxtvvFEAHmX/+q//mq9+9atZunRpXvWqV+Xuu+/OvHnzMmrUKM8FByUA+6ETTjgh9fX12b59e5/927dvz4gRI6o0FXPnzs2KFSuybt26jBkzptrjFGnTpk35xS9+kTPOOKN33759+7Ju3brccMMN6e7uTn19fRUnLMfIkSPzyle+ss++P/qjP8o3vvGNKk1Uro9+9KO57LLLct555yVJTjvttDzyyCNpb28XgByU9wD2Q8cee2zOPPPMrF69undfT09PVq9enbPPPruKk5WpUqlk7ty5WbZsWb7//e+ntbW12iMV65xzzsm9996bu+++u3ebOHFizj///Nx9993i7yiaPHnyfh+H9NOf/jQnnnhilSYq129/+9sMGND323l9fX16enqqNBG1wBXAfuqSSy7Je97znkycODF/8id/kuuuuy579uzJBRdcUO3RitPW1palS5dm+fLlaWpqSkdHR5Kkubk5jY2NVZ6uLE1NTfu993Lw4ME5/vjjvSfzKPu7v/u7vOY1r8knP/nJ/NVf/VV++MMf5otf/GK++MUvVnu04rzpTW/KJz7xibz0pS/Nq171qvznf/5n/vEf/zF//dd/Xe3R6Md8DEw/dsMNN+Qzn/lMOjo6MmHChFx//fU566yzqj1Wcerq6g64f/HixZkzZ87RHYb9TJ061cfAVMmKFSsyf/78PPDAA2ltbc0ll1yS973vfdUeqzi7du3KFVdckWXLluUXv/hFRo0alXe+85258sorc+yxx1Z7PPopAQgAUBjvAQQAKIwABAAojAAEACiMAAQAKIwABAAojAAEACiMAAQAKIwABAAojAAEACiMAAQAKIwABAAojAAEACiMAAQAKIwABAAojAAEACiMAAQAKIwABAAojAAEACiMAAQAKIwABAAojAAEACiMAAQAKIwABAAojAAEACiMAAQAKIwABAAojAAEACiMAAQAKIwABAAojAAEACiMAAQAKMz/B0nydYm96glBAAAAAElFTkSuQmCC' width=640.0/>\n",
       "            </div>\n",
       "        "
      ],
      "text/plain": [
       "Canvas(toolbar=Toolbar(toolitems=[('Home', 'Reset original view', 'home', 'home'), ('Back', 'Back to previous …"
      ]
     },
     "metadata": {},
     "output_type": "display_data"
    }
   ],
   "source": [
    "%matplotlib widget\n",
    "x_unique = np.unique(x)\n",
    "p_unique = np.unique(p)\n",
    "\n",
    "x_grid, p_grid = np.meshgrid(x_unique, p_unique)\n",
    "\n",
    "Z = func(x_grid, p_grid)\n",
    "\n",
    "fig, ax = plt.subplots()\n",
    "ax.pcolormesh(x_grid, p_grid, Z)\n",
    "\n",
    "\n",
    "\n"
   ]
  },
  {
   "cell_type": "code",
   "execution_count": 10,
   "id": "03b9ef09-f5c3-4902-964d-c409ac07d077",
   "metadata": {},
   "outputs": [],
   "source": [
    "F = func(x,p)"
   ]
  },
  {
   "cell_type": "code",
   "execution_count": 11,
   "id": "519bf8d6-02ff-4eaf-9922-cc5b3255535c",
   "metadata": {},
   "outputs": [
    {
     "data": {
      "text/plain": [
       "array([ 6.25      , 12.50919366, 15.93310892, 16.13200005, 17.5199844 ,\n",
       "       25.25672328, 40.50365314, 59.35616624, 76.43348904, 89.82574053,\n",
       "        5.76      , 11.60687287, 14.99755318, 15.57285125, 17.40081763,\n",
       "       25.23659618, 40.15056673, 58.54424281, 75.4587035 , 89.13380247,\n",
       "        5.29      , 10.74138151, 14.10018339, 15.03652484, 17.2865148 ,\n",
       "       25.21729059, 39.81189201, 57.76545911, 74.52370512, 88.47010679])"
      ]
     },
     "execution_count": 11,
     "metadata": {},
     "output_type": "execute_result"
    }
   ],
   "source": [
    "F"
   ]
  },
  {
   "cell_type": "code",
   "execution_count": 12,
   "id": "1879a223-36ae-4d72-ad6d-fc43e8a145c9",
   "metadata": {},
   "outputs": [
    {
     "data": {
      "text/plain": [
       "array([[ 5.29      , 10.74138151, 14.10018339, 15.03652484, 17.2865148 ,\n",
       "        25.21729059, 39.81189201, 57.76545911, 74.52370512, 88.47010679],\n",
       "       [ 5.76      , 11.60687287, 14.99755318, 15.57285125, 17.40081763,\n",
       "        25.23659618, 40.15056673, 58.54424281, 75.4587035 , 89.13380247],\n",
       "       [ 6.25      , 12.50919366, 15.93310892, 16.13200005, 17.5199844 ,\n",
       "        25.25672328, 40.50365314, 59.35616624, 76.43348904, 89.82574053]])"
      ]
     },
     "execution_count": 12,
     "metadata": {},
     "output_type": "execute_result"
    }
   ],
   "source": [
    "Z"
   ]
  },
  {
   "cell_type": "code",
   "execution_count": 13,
   "id": "90268008-83cc-4041-b312-6b7452c8aa4d",
   "metadata": {},
   "outputs": [
    {
     "data": {
      "text/plain": [
       "array([[ 6.25      , 12.50919366, 15.93310892, 16.13200005, 17.5199844 ,\n",
       "        25.25672328, 40.50365314, 59.35616624, 76.43348904, 89.82574053],\n",
       "       [ 5.76      , 11.60687287, 14.99755318, 15.57285125, 17.40081763,\n",
       "        25.23659618, 40.15056673, 58.54424281, 75.4587035 , 89.13380247],\n",
       "       [ 5.29      , 10.74138151, 14.10018339, 15.03652484, 17.2865148 ,\n",
       "        25.21729059, 39.81189201, 57.76545911, 74.52370512, 88.47010679]])"
      ]
     },
     "execution_count": 13,
     "metadata": {},
     "output_type": "execute_result"
    }
   ],
   "source": [
    "F_grid_ini = F.reshape(len(p_unique), len(x_unique))\n",
    "F_grid_ini"
   ]
  },
  {
   "cell_type": "code",
   "execution_count": 14,
   "id": "9917cc43-5adc-42ee-ba66-7ca9ea9f260a",
   "metadata": {},
   "outputs": [
    {
     "data": {
      "text/plain": [
       "(3, 10)"
      ]
     },
     "execution_count": 14,
     "metadata": {},
     "output_type": "execute_result"
    }
   ],
   "source": [
    "Z.shape"
   ]
  },
  {
   "cell_type": "code",
   "execution_count": 15,
   "id": "49cd4425-728b-44f5-b9a1-724cd48eefb8",
   "metadata": {},
   "outputs": [
    {
     "data": {
      "text/plain": [
       "(30,)"
      ]
     },
     "execution_count": 15,
     "metadata": {},
     "output_type": "execute_result"
    }
   ],
   "source": [
    "F.shape"
   ]
  },
  {
   "cell_type": "code",
   "execution_count": 16,
   "id": "760f5720-4fd1-4ffa-b2cc-104439c298c4",
   "metadata": {},
   "outputs": [
    {
     "data": {
      "text/plain": [
       "array([[ 5.29      , 10.74138151, 14.10018339, 15.03652484, 17.2865148 ,\n",
       "        25.21729059, 39.81189201, 57.76545911, 74.52370512, 88.47010679],\n",
       "       [ 5.76      , 11.60687287, 14.99755318, 15.57285125, 17.40081763,\n",
       "        25.23659618, 40.15056673, 58.54424281, 75.4587035 , 89.13380247],\n",
       "       [ 6.25      , 12.50919366, 15.93310892, 16.13200005, 17.5199844 ,\n",
       "        25.25672328, 40.50365314, 59.35616624, 76.43348904, 89.82574053]])"
      ]
     },
     "execution_count": 16,
     "metadata": {},
     "output_type": "execute_result"
    }
   ],
   "source": [
    "np.flip(F_grid_ini, axis=0)"
   ]
  },
  {
   "cell_type": "code",
   "execution_count": 21,
   "id": "05254bc7-2da0-4dc6-a4b3-92794981bc3a",
   "metadata": {},
   "outputs": [
    {
     "name": "stdout",
     "output_type": "stream",
     "text": [
      "[0.00e+00 1.00e-03 2.00e-03 ... 6.97e+02 6.98e+02 6.99e+02]\n",
      "[2.  2.1 2.2 2.3 2.4 2.5 2.6 2.7 2.8 2.9 3.  3.1 3.2 3.3 3.4]\n",
      "(array([1]),)\n",
      "(array([], dtype=int64),)\n",
      "[]\n",
      "0.00027754126008685637\n"
     ]
    },
    {
     "name": "stderr",
     "output_type": "stream",
     "text": [
      "/tmp/ipykernel_17834/3969778464.py:32: IntegrationWarning: The integral is probably divergent, or slowly convergent.\n",
      "  return x * integrate.quad(fy1, x, np.inf)[0]\n"
     ]
    }
   ],
   "source": [
    "F2_file = open(\"F2_values.pkl\", \"rb\")\n",
    "F2_dict = pickle.load(F2_file)\n",
    "F2_x_values = F2_dict['x']\n",
    "F2_p_values = F2_dict['p']\n",
    "F2_values = F2_dict['F2']\n",
    "\n",
    "print(F2_x_values)\n",
    "print(F2_p_values)\n",
    "sel_x = np.where(F2_x_values==0.001)\n",
    "\n",
    "print(sel_x)\n",
    "\n",
    "sel_p = np.where(F2_p_values[sel_x]==2.0)\n",
    "\n",
    "print(sel_p)\n",
    "\n",
    "print(F_values[sel_x][sel_p])\n",
    "\n",
    "#interp_func_F2 = interpolate.RegularGridInterpolator((np.unique(F2_x_values), np.unique(F2_p_values)), F2_grid)\n",
    "\n",
    "\n",
    "def calc_F(x, to_interp=False):\n",
    "    \"\"\"\n",
    "    Returns values of function F (defined in eq. A7 of Soderberg et al. 2005)\n",
    "    at x\n",
    "    \"\"\"\n",
    "    if not to_interp:\n",
    "        def fy1(y):\n",
    "            return special.kv(5.0 / 3.0, y)\n",
    "\n",
    "        if isinstance(x, float):\n",
    "            return x * integrate.quad(fy1, x, np.inf)[0]\n",
    "        else:\n",
    "            F_x = np.zeros(len(x))\n",
    "            for i, x_i in enumerate(x):\n",
    "                F_x[i] = x_i * integrate.quad(fy1, x_i, np.inf)[0]\n",
    "            return F_x\n",
    "    else:\n",
    "        return interp_func_F(x)\n",
    "    \n",
    "    \n",
    "\n",
    "def calc_F_2(x, calc_F, p, to_interp=False):\n",
    "    \"\"\"\n",
    "    Returns values of function F2 (defined in eq. A7 of Soderberg et al. 2005)\n",
    "    at x\n",
    "    \"\"\"\n",
    "    if not to_interp:\n",
    "        def fy2(y):\n",
    "            return calc_F(y) * (y ** ((p - 2.0) / 2.0))\n",
    "\n",
    "        if isinstance(x, float):\n",
    "            return np.sqrt(3) * integrate.quad(fy2, 0, x)[0]\n",
    "        else:\n",
    "            F_2_x = np.zeros(len(x))\n",
    "            for i, x_i in enumerate(x):\n",
    "                if x_i < 20000:\n",
    "                    F_2_x[i] = np.sqrt(3) * integrate.quad(fy2, 0, x_i)[0]\n",
    "                else:\n",
    "                    F_2_x[i:] = np.sqrt(3) * integrate.quad(fy2, 0, 20000)[0]\n",
    "            return F_2_x\n",
    "    else:\n",
    "        return interp_func_F2((x,p))\n",
    "\n",
    "\n",
    "print(calc_F_2(0.001, calc_F, 2.0))"
   ]
  },
  {
   "cell_type": "code",
   "execution_count": null,
   "id": "c7b28560-358e-496f-8315-415dcbdb0a58",
   "metadata": {},
   "outputs": [],
   "source": [
    "xg"
   ]
  },
  {
   "cell_type": "code",
   "execution_count": null,
   "id": "8824895f-c274-4852-9395-8b07397066fa",
   "metadata": {},
   "outputs": [],
   "source": []
  },
  {
   "cell_type": "code",
   "execution_count": null,
   "id": "df16d690-21c5-46da-93c1-c4a309b19194",
   "metadata": {},
   "outputs": [],
   "source": []
  }
 ],
 "metadata": {
  "kernelspec": {
   "display_name": "Python 3 (ipykernel)",
   "language": "python",
   "name": "python3"
  },
  "language_info": {
   "codemirror_mode": {
    "name": "ipython",
    "version": 3
   },
   "file_extension": ".py",
   "mimetype": "text/x-python",
   "name": "python",
   "nbconvert_exporter": "python",
   "pygments_lexer": "ipython3",
   "version": "3.10.16"
  }
 },
 "nbformat": 4,
 "nbformat_minor": 5
}
